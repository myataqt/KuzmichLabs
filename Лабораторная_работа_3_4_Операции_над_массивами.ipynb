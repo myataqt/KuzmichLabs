{
  "cells": [
    {
      "cell_type": "markdown",
      "metadata": {
        "id": "view-in-github",
        "colab_type": "text"
      },
      "source": [
        "<a href=\"https://colab.research.google.com/github/myataqt/KuzmichLabs/blob/lab2/%D0%9B%D0%B0%D0%B1%D0%BE%D1%80%D0%B0%D1%82%D0%BE%D1%80%D0%BD%D0%B0%D1%8F_%D1%80%D0%B0%D0%B1%D0%BE%D1%82%D0%B0_3_4_%D0%9E%D0%BF%D0%B5%D1%80%D0%B0%D1%86%D0%B8%D0%B8_%D0%BD%D0%B0%D0%B4_%D0%BC%D0%B0%D1%81%D1%81%D0%B8%D0%B2%D0%B0%D0%BC%D0%B8.ipynb\" target=\"_parent\"><img src=\"https://colab.research.google.com/assets/colab-badge.svg\" alt=\"Open In Colab\"/></a>"
      ]
    },
    {
      "cell_type": "markdown",
      "metadata": {
        "id": "45a27e8e"
      },
      "source": [
        "## Лабораторная работа № 3-4. Операции над массивами\n",
        "\n",
        "***В каждом задании выбираем задачу согласно номеру в списке***\n",
        "\n"
      ],
      "id": "45a27e8e"
    },
    {
      "cell_type": "markdown",
      "metadata": {
        "id": "6ea7513d"
      },
      "source": [
        "*Подключите библиотеку NumPY*"
      ],
      "id": "6ea7513d"
    },
    {
      "cell_type": "code",
      "execution_count": null,
      "metadata": {
        "id": "562309ad"
      },
      "outputs": [],
      "source": [
        "import numpy as np"
      ],
      "id": "562309ad"
    },
    {
      "cell_type": "markdown",
      "metadata": {
        "id": "64e9eca5"
      },
      "source": [
        "**Задание 1.** *Используя соответствующие функции вычислите значение функции f(x) в 100 равномерно распределенных точках отрезка [a, b].*\n",
        "<table>\n",
        "   <tr>\n",
        "    <th>№ варианта</th>\n",
        "    <th>f(x)</th>\n",
        "    <th>a</th>\n",
        "    <th>b</th>\n",
        "   </tr>\n",
        "   <tr><td>1</td><td>$$\\sin x$$</td><td>$$-\\pi$$</td><td>$$\\pi$$</td></tr>\n",
        "   <tr><td>2</td><td>$$\\cos x$$</td><td>$$-\\pi$$</td><td>$$\\pi$$</td></tr>\n",
        "   <tr><td>3</td><td>$$\\tan x$$</td><td>$$-\\pi$$</td><td>$$\\pi$$</td></tr>\n",
        "   <tr><td>4</td><td>$$\\arcsin x$$</td><td>-1</td><td>1</td></tr>\n",
        "   <tr><td>5</td><td>$$\\arccos x$$</td><td>-1</td><td>1</td></tr>\n",
        "   <tr><td>6</td><td>$$\\arctan x$$</td><td>-5</td><td>5</td></tr>\n",
        "   <tr><td>7</td><td>$$x^2$$</td><td>-3</td><td>3</td></tr>\n",
        "   <tr><td>8</td><td>$$\\ln x$$</td><td>1</td><td>20</td></tr>\n",
        "   <tr><td>9</td><td>$$\\lg x$$</td><td>1</td><td>30</td></tr>\n",
        "   <tr><td>10</td><td>$$\\log[2] x$$</td><td>1</td><td>40</td></tr>\n",
        "   <tr><td>11</td><td>$$\\sqrt{x}$$</td><td>0</td><td>40</td></tr>\n",
        "   <tr><td>12</td><td>$$\\sqrt[3]{x}$$</td><td>-20</td><td>20</td></tr>\n",
        "   <tr><td>13</td><td>$$|x|$$</td><td>-6</td><td>6</td></tr>\n",
        "   <tr><td>14</td><td>$$e^x$$</td><td>-30</td><td>30</td></tr>\n",
        "   <tr><td>15</td><td>$$x^3$$</td><td>-5</td><td>10</td></tr>\n",
        "   <tr><td>16</td><td>$$\\sqrt[4]{x}$$</td><td>0</td><td>25</td></tr>\n",
        "   <tr><td>17</td><td>$$\\sin x^2$$</td><td>$$-\\pi$$</td><td>$$\\pi$$</td></tr>\n",
        "   <tr><td>18</td><td>$$\\cos x^2$$</td><td>$$-\\pi$$</td><td>$$\\pi$$</td></tr>\n",
        "   <tr><td>19</td><td>$$\\tan x^2$$</td><td>$$-\\pi$$</td><td>$$\\pi$$</td></tr>\n",
        "   <tr><td>20</td><td>$$\\lg^2 x$$</td><td>1</td><td>20</td></tr>\n",
        "   <tr><td>21</td><td>$$\\arcsin x^2$$</td><td>-1</td><td>1</td></tr>\n",
        "   <tr><td>22</td><td>$$\\arccos x^2$$</td><td>-1</td><td>1</td></tr>\n",
        "   <tr><td>23</td><td>$$\\arctan x^2$$</td><td>-6</td><td>6</td></tr>\n",
        "   <tr><td>24</td><td>$$\\ln x^2$$</td><td>-5</td><td>5</td></tr>\n",
        "   <tr><td>25</td><td>$$\\lg x^2$$</td><td>-6</td><td>6</td></tr>\n",
        "   <tr><td>26</td><td>$$\\log[2]{x^2}$$</td><td>-8</td><td>8</td></tr>   \n",
        "   <tr><td>27</td><td>$$\\ln^2 x$$</td><td>1</td><td>10</td></tr>\n",
        "   <tr><td>28</td><td>$$\\log_2^2 x$$</td><td>2</td><td>50</td></tr>\n",
        "   <tr><td>29</td><td>$$\\sqrt[3]{x^2}$$</td><td>-20</td><td>20</td></tr>\n",
        "   <tr><td>30</td><td>$$\\sin^2 x$$</td><td>$$-\\pi$$</td><td>$$\\pi$$</td></tr>\n",
        "  </table>"
      ],
      "id": "64e9eca5"
    },
    {
      "cell_type": "code",
      "execution_count": null,
      "metadata": {
        "colab": {
          "base_uri": "https://localhost:8080/"
        },
        "id": "3ea2105f",
        "outputId": "e8e346a6-d2b5-4bc2-c0a2-c8d3d541c97f"
      },
      "outputs": [
        {
          "name": "stdout",
          "output_type": "stream",
          "text": [
            "x:  -6.0  y:  6.0\n",
            "x:  -5.878787878787879  y:  5.878787878787879\n",
            "x:  -5.757575757575758  y:  5.757575757575758\n",
            "x:  -5.636363636363637  y:  5.636363636363637\n",
            "x:  -5.515151515151516  y:  5.515151515151516\n",
            "x:  -5.393939393939394  y:  5.393939393939394\n",
            "x:  -5.2727272727272725  y:  5.2727272727272725\n",
            "x:  -5.151515151515151  y:  5.151515151515151\n",
            "x:  -5.03030303030303  y:  5.03030303030303\n",
            "x:  -4.909090909090909  y:  4.909090909090909\n",
            "x:  -4.787878787878788  y:  4.787878787878788\n",
            "x:  -4.666666666666666  y:  4.666666666666666\n",
            "x:  -4.545454545454545  y:  4.545454545454545\n",
            "x:  -4.424242424242424  y:  4.424242424242424\n",
            "x:  -4.303030303030303  y:  4.303030303030303\n",
            "x:  -4.181818181818182  y:  4.181818181818182\n",
            "x:  -4.0606060606060606  y:  4.0606060606060606\n",
            "x:  -3.9393939393939394  y:  3.9393939393939394\n",
            "x:  -3.8181818181818183  y:  3.8181818181818183\n",
            "x:  -3.696969696969697  y:  3.696969696969697\n",
            "x:  -3.5757575757575757  y:  3.5757575757575757\n",
            "x:  -3.4545454545454546  y:  3.4545454545454546\n",
            "x:  -3.333333333333333  y:  3.333333333333333\n",
            "x:  -3.212121212121212  y:  3.212121212121212\n",
            "x:  -3.090909090909091  y:  3.090909090909091\n",
            "x:  -2.9696969696969697  y:  2.9696969696969697\n",
            "x:  -2.8484848484848486  y:  2.8484848484848486\n",
            "x:  -2.727272727272727  y:  2.727272727272727\n",
            "x:  -2.606060606060606  y:  2.606060606060606\n",
            "x:  -2.484848484848485  y:  2.484848484848485\n",
            "x:  -2.3636363636363633  y:  2.3636363636363633\n",
            "x:  -2.242424242424242  y:  2.242424242424242\n",
            "x:  -2.121212121212121  y:  2.121212121212121\n",
            "x:  -2.0  y:  2.0\n",
            "x:  -1.878787878787879  y:  1.878787878787879\n",
            "x:  -1.7575757575757578  y:  1.7575757575757578\n",
            "x:  -1.6363636363636367  y:  1.6363636363636367\n",
            "x:  -1.5151515151515147  y:  1.5151515151515147\n",
            "x:  -1.3939393939393936  y:  1.3939393939393936\n",
            "x:  -1.2727272727272725  y:  1.2727272727272725\n",
            "x:  -1.1515151515151514  y:  1.1515151515151514\n",
            "x:  -1.0303030303030303  y:  1.0303030303030303\n",
            "x:  -0.9090909090909092  y:  0.9090909090909092\n",
            "x:  -0.7878787878787881  y:  0.7878787878787881\n",
            "x:  -0.6666666666666661  y:  0.6666666666666661\n",
            "x:  -0.545454545454545  y:  0.545454545454545\n",
            "x:  -0.42424242424242387  y:  0.42424242424242387\n",
            "x:  -0.30303030303030276  y:  0.30303030303030276\n",
            "x:  -0.18181818181818166  y:  0.18181818181818166\n",
            "x:  -0.06060606060606055  y:  0.06060606060606055\n",
            "x:  0.06060606060606055  y:  0.06060606060606055\n",
            "x:  0.18181818181818166  y:  0.18181818181818166\n",
            "x:  0.30303030303030276  y:  0.30303030303030276\n",
            "x:  0.42424242424242475  y:  0.42424242424242475\n",
            "x:  0.5454545454545459  y:  0.5454545454545459\n",
            "x:  0.666666666666667  y:  0.666666666666667\n",
            "x:  0.7878787878787881  y:  0.7878787878787881\n",
            "x:  0.9090909090909092  y:  0.9090909090909092\n",
            "x:  1.0303030303030303  y:  1.0303030303030303\n",
            "x:  1.1515151515151514  y:  1.1515151515151514\n",
            "x:  1.2727272727272734  y:  1.2727272727272734\n",
            "x:  1.3939393939393945  y:  1.3939393939393945\n",
            "x:  1.5151515151515156  y:  1.5151515151515156\n",
            "x:  1.6363636363636367  y:  1.6363636363636367\n",
            "x:  1.7575757575757578  y:  1.7575757575757578\n",
            "x:  1.878787878787879  y:  1.878787878787879\n",
            "x:  2.0  y:  2.0\n",
            "x:  2.121212121212121  y:  2.121212121212121\n",
            "x:  2.242424242424242  y:  2.242424242424242\n",
            "x:  2.3636363636363633  y:  2.3636363636363633\n",
            "x:  2.4848484848484844  y:  2.4848484848484844\n",
            "x:  2.6060606060606055  y:  2.6060606060606055\n",
            "x:  2.7272727272727266  y:  2.7272727272727266\n",
            "x:  2.8484848484848495  y:  2.8484848484848495\n",
            "x:  2.9696969696969706  y:  2.9696969696969706\n",
            "x:  3.0909090909090917  y:  3.0909090909090917\n",
            "x:  3.212121212121213  y:  3.212121212121213\n",
            "x:  3.333333333333334  y:  3.333333333333334\n",
            "x:  3.454545454545455  y:  3.454545454545455\n",
            "x:  3.575757575757576  y:  3.575757575757576\n",
            "x:  3.6969696969696972  y:  3.6969696969696972\n",
            "x:  3.8181818181818183  y:  3.8181818181818183\n",
            "x:  3.9393939393939394  y:  3.9393939393939394\n",
            "x:  4.0606060606060606  y:  4.0606060606060606\n",
            "x:  4.181818181818182  y:  4.181818181818182\n",
            "x:  4.303030303030303  y:  4.303030303030303\n",
            "x:  4.424242424242424  y:  4.424242424242424\n",
            "x:  4.545454545454545  y:  4.545454545454545\n",
            "x:  4.666666666666668  y:  4.666666666666668\n",
            "x:  4.787878787878789  y:  4.787878787878789\n",
            "x:  4.90909090909091  y:  4.90909090909091\n",
            "x:  5.030303030303031  y:  5.030303030303031\n",
            "x:  5.151515151515152  y:  5.151515151515152\n",
            "x:  5.272727272727273  y:  5.272727272727273\n",
            "x:  5.3939393939393945  y:  5.3939393939393945\n",
            "x:  5.515151515151516  y:  5.515151515151516\n",
            "x:  5.636363636363637  y:  5.636363636363637\n",
            "x:  5.757575757575758  y:  5.757575757575758\n",
            "x:  5.878787878787879  y:  5.878787878787879\n",
            "x:  6.0  y:  6.0\n"
          ]
        }
      ],
      "source": [
        "x = np.linspace(-6, 6, 100)\n",
        "\n",
        "y = np.abs(x)\n",
        "\n",
        "for i in range(len(x)):\n",
        "    print(\"x: \", x[i], \" y: \", y[i])"
      ],
      "id": "3ea2105f"
    },
    {
      "cell_type": "markdown",
      "metadata": {
        "id": "d20914dc"
      },
      "source": [
        "**Задание 2.** *Создайте два целочисленных одномерных массива размерности a*b (a- количество букв в имени, b – количество букв в фамилии). Найдите поэлементную сумму массивов, поэлементную разность массивов, остаток от деления элементов первого массива на второй, произведение соответствующих элементов массивов.*\n"
      ],
      "id": "d20914dc"
    },
    {
      "cell_type": "code",
      "execution_count": null,
      "metadata": {
        "colab": {
          "base_uri": "https://localhost:8080/"
        },
        "id": "f3459357",
        "outputId": "2e605df4-b46f-4838-a465-fa5d940893fd"
      },
      "outputs": [
        {
          "name": "stdout",
          "output_type": "stream",
          "text": [
            "Array 1:\n",
            "[33 38  3  7  8 13 51 52 38 93 49 45 33 22 12 79 58 52 91 71  7 12 42 82\n",
            " 49 67 84 66 78 46 86 16 76 57 55 39 62 51 84 80 14 76 11 43 66 60 91 72\n",
            " 62 25 99 99 81 87 42 77 49 84 59 81 85 17 34 73 50 32 84 83 57 29 57 55\n",
            " 78 63 22 42 32]\n",
            "\n",
            "Array 2:\n",
            "[ 2 38 39 80 75 59 97 70 70 65 43 31 45 24 30 38  7 70 76 60 61 83 75 68\n",
            " 83 95 26 36 25 17 41 47 51 37 21 24 90 70 49 52 28 36 78  4 15 37  9 36\n",
            " 58  4 19 37 81 56 30 51 64 32 30 42 26 25 57 78 43 49 80 53 63 69 99 79\n",
            " 74 57  9 39 67]\n",
            "\n",
            "Sum of Arrays:\n",
            "[ 35  76  42  87  83  72 148 122 108 158  92  76  78  46  42 117  65 122\n",
            " 167 131  68  95 117 150 132 162 110 102 103  63 127  63 127  94  76  63\n",
            " 152 121 133 132  42 112  89  47  81  97 100 108 120  29 118 136 162 143\n",
            "  72 128 113 116  89 123 111  42  91 151  93  81 164 136 120  98 156 134\n",
            " 152 120  31  81  99]\n",
            "\n",
            "Difference of Arrays:\n",
            "[ 31   0 -36 -73 -67 -46 -46 -18 -32  28   6  14 -12  -2 -18  41  51 -18\n",
            "  15  11 -54 -71 -33  14 -34 -28  58  30  53  29  45 -31  25  20  34  15\n",
            " -28 -19  35  28 -14  40 -67  39  51  23  82  36   4  21  80  62   0  31\n",
            "  12  26 -15  52  29  39  59  -8 -23  -5   7 -17   4  30  -6 -40 -42 -24\n",
            "   4   6  13   3 -35]\n",
            "\n",
            "Remainder of Division:\n",
            "[ 1  0  3  7  8 13 51 52 38 28  6 14 33 22 12  3  2 52 15 11  7 12 42 14\n",
            " 49 67  6 30  3 12  4 16 25 20 13 15 62 51 35 28 14  4 11  3  6 23  1  0\n",
            "  4  1  4 25  0 31 12 26 49 20 29 39  7 17 34 73  7 32  4 30 57 29 57 55\n",
            "  4  6  4  3 32]\n",
            "\n",
            "Product of Arrays:\n",
            "[  66 1444  117  560  600  767 4947 3640 2660 6045 2107 1395 1485  528\n",
            "  360 3002  406 3640 6916 4260  427  996 3150 5576 4067 6365 2184 2376\n",
            " 1950  782 3526  752 3876 2109 1155  936 5580 3570 4116 4160  392 2736\n",
            "  858  172  990 2220  819 2592 3596  100 1881 3663 6561 4872 1260 3927\n",
            " 3136 2688 1770 3402 2210  425 1938 5694 2150 1568 6720 4399 3591 2001\n",
            " 5643 4345 5772 3591  198 1638 2144]\n"
          ]
        }
      ],
      "source": [
        "array1 = np.random.randint(100, size=77)\n",
        "array2 = np.random.randint(100, size=77)\n",
        "\n",
        "sum_array = array1 + array2\n",
        "\n",
        "diff_array = array1 - array2\n",
        "\n",
        "remainder_array = np.mod(array1, array2)\n",
        "\n",
        "product_array = array1 * array2\n",
        "\n",
        "print(\"Array 1:\")\n",
        "print(array1)\n",
        "print(\"\\nArray 2:\")\n",
        "print(array2)\n",
        "print(\"\\nSum of Arrays:\")\n",
        "print(sum_array)\n",
        "print(\"\\nDifference of Arrays:\")\n",
        "print(diff_array)\n",
        "print(\"\\nRemainder of Division:\")\n",
        "print(remainder_array)\n",
        "print(\"\\nProduct of Arrays:\")\n",
        "print(product_array)"
      ],
      "id": "f3459357"
    },
    {
      "cell_type": "markdown",
      "metadata": {
        "id": "9c9aa703"
      },
      "source": [
        "**Задание 3.** *Для одного из массивов, созданных в предыдущем задании найдите сумму всех элементов, среднее значение, дисперсию и среднеквадратичное отклонение. Выведите наибольший и наименьший элемент массива и их индексы.*"
      ],
      "id": "9c9aa703"
    },
    {
      "cell_type": "code",
      "execution_count": null,
      "metadata": {
        "colab": {
          "base_uri": "https://localhost:8080/"
        },
        "id": "9907c3e7",
        "outputId": "0cae2df7-6e18-481d-fab8-70f74c5928b6"
      },
      "outputs": [
        {
          "name": "stdout",
          "output_type": "stream",
          "text": [
            "Sum of Array 1: 4158\n",
            "Mean of Array 1: 54.0\n",
            "Variance of Array 1: 671.2207792207793\n",
            "Standard Deviation of Array 1: 25.907928887133746\n",
            "Largest Element of Array 1: 99 at index 50\n",
            "Smallest Element of Array 1: 3 at index 2\n"
          ]
        }
      ],
      "source": [
        "sum_array1 = np.sum(array1)\n",
        "print(\"Sum of Array 1:\", sum_array1)\n",
        "\n",
        "mean_array1 = np.mean(array1)\n",
        "print(\"Mean of Array 1:\", mean_array1)\n",
        "\n",
        "var_array1 = np.var(array1)\n",
        "print(\"Variance of Array 1:\", var_array1)\n",
        "\n",
        "std_array1 = np.std(array1)\n",
        "print(\"Standard Deviation of Array 1:\", std_array1)\n",
        "\n",
        "max_element = np.max(array1)\n",
        "max_index = np.argmax(array1)\n",
        "print(\"Largest Element of Array 1:\", max_element, \"at index\", max_index)\n",
        "\n",
        "min_element = np.min(array1)\n",
        "min_index = np.argmin(array1)\n",
        "print(\"Smallest Element of Array 1:\", min_element, \"at index\", min_index)\n"
      ],
      "id": "9907c3e7"
    },
    {
      "cell_type": "markdown",
      "metadata": {
        "id": "078329c5"
      },
      "source": [
        "**Задание 4.** *Проверьте есть ли в созданных в задании 2 массивах элементы из массива [2,5,8,10].*"
      ],
      "id": "078329c5"
    },
    {
      "cell_type": "code",
      "execution_count": null,
      "metadata": {
        "colab": {
          "base_uri": "https://localhost:8080/"
        },
        "id": "f0a32031",
        "outputId": "d1f7bb3a-ffb0-4367-9f1d-816079f050ff"
      },
      "outputs": [
        {
          "name": "stdout",
          "output_type": "stream",
          "text": [
            "Does sum_array contain elements from values_to_check? False\n",
            "Does diff_array contain elements from values_to_check? False\n",
            "Does product_array contain elements from values_to_check? False\n",
            "Does remainder_array contain elements from values_to_check? True\n"
          ]
        }
      ],
      "source": [
        "values_to_check = np.array([2,5,8,10])\n",
        "\n",
        "contains_values_sum = np.isin(sum_array, values_to_check)\n",
        "print(\"Does sum_array contain elements from values_to_check?\", np.any(contains_values_sum))\n",
        "\n",
        "contains_values_diff = np.isin(diff_array, values_to_check)\n",
        "print(\"Does diff_array contain elements from values_to_check?\", np.any(contains_values_diff))\n",
        "\n",
        "contains_values_product = np.isin(product_array, values_to_check)\n",
        "print(\"Does product_array contain elements from values_to_check?\", np.any(contains_values_product))\n",
        "\n",
        "contains_values_remainder = np.isin(remainder_array, values_to_check)\n",
        "print(\"Does remainder_array contain elements from values_to_check?\", np.any(contains_values_remainder))\n"
      ],
      "id": "f0a32031"
    },
    {
      "cell_type": "markdown",
      "metadata": {
        "id": "d64509c1"
      },
      "source": [
        "**Задание 5.** *Создайте двумерный массив размерности a*b (a- количество букв в имени, b – количество букв в фамилии) с помощью срезов вывести элементы, стоящие в первой строке, второй строке, первом столбце, втором столбце, в первой и второй строке и третьем и четвертом столбце, в последней строке, в последнем столбце, в двух последних строках и двух последних строках*"
      ],
      "id": "d64509c1"
    },
    {
      "cell_type": "code",
      "execution_count": null,
      "metadata": {
        "colab": {
          "background_save": true,
          "base_uri": "https://localhost:8080/"
        },
        "id": "7d5ccf86",
        "outputId": "379de914-1193-4700-fd07-da7bc48e54ae"
      },
      "outputs": [
        {
          "name": "stdout",
          "output_type": "stream",
          "text": [
            "[ 0  1  2  3  4  5  6  7  8  9 10]\n",
            "----------------------------------------------------------------------\n",
            "[11 12 13 14 15 16 17 18 19 20 21]\n",
            "----------------------------------------------------------------------\n",
            "[ 0 11 22 33 44 55 66]\n",
            "----------------------------------------------------------------------\n",
            "[ 1 12 23 34 45 56 67]\n",
            "----------------------------------------------------------------------\n",
            "[[ 2  3]\n",
            " [13 14]]\n",
            "----------------------------------------------------------------------\n",
            "[66 67 68 69 70 71 72 73 74 75 76]\n",
            "----------------------------------------------------------------------\n",
            "[10 21 32 43 54 65 76]\n",
            "----------------------------------------------------------------------\n",
            "[[55 56 57 58 59 60 61 62 63 64 65]\n",
            " [66 67 68 69 70 71 72 73 74 75 76]]\n",
            "----------------------------------------------------------------------\n",
            "[[57 58]\n",
            " [68 69]]\n",
            "----------------------------------------------------------------------\n"
          ]
        }
      ],
      "source": [
        "arr = np.arange(77).reshape(7, 11)\n",
        "\n",
        "print(\" \")\n",
        "# First row\n",
        "print(arr[0, :])\n",
        "\n",
        "# Second row\n",
        "print(arr[1, :])\n",
        "\n",
        "# First column\n",
        "print(arr[:, 0])\n",
        "\n",
        "# Second column\n",
        "print(arr[:, 1])\n",
        "\n",
        "# First and second row and third and fourth column\n",
        "print(arr[0:2, 2:4])\n",
        "\n",
        "# Last row\n",
        "print(arr[-1, :])\n",
        "\n",
        "# Last column\n",
        "print(arr[:, -1])\n",
        "\n",
        "# Last two rows\n",
        "print(arr[-2:, :])\n",
        "\n",
        "# Last two rows and third and fourth column\n",
        "print(arr[-2:, 2:4])\n"
      ],
      "id": "7d5ccf86"
    }
  ],
  "metadata": {
    "colab": {
      "provenance": [],
      "include_colab_link": true
    },
    "kernelspec": {
      "display_name": "Python 3 (ipykernel)",
      "language": "python",
      "name": "python3"
    },
    "language_info": {
      "codemirror_mode": {
        "name": "ipython",
        "version": 3
      },
      "file_extension": ".py",
      "mimetype": "text/x-python",
      "name": "python",
      "nbconvert_exporter": "python",
      "pygments_lexer": "ipython3",
      "version": "3.9.7"
    }
  },
  "nbformat": 4,
  "nbformat_minor": 5
}